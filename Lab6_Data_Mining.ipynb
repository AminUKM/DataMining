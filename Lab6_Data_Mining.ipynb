{
  "nbformat": 4,
  "nbformat_minor": 0,
  "metadata": {
    "colab": {
      "provenance": []
    },
    "kernelspec": {
      "name": "python3",
      "display_name": "Python 3"
    },
    "language_info": {
      "name": "python"
    }
  },
  "cells": [
    {
      "cell_type": "markdown",
      "source": [
        "#Task 1\n",
        "#Decision Variables\n",
        "Let:\n",
        "\n",
        "x = number of units of Product A to produce\n",
        "\n",
        "y = number of units of Product B to produce\n",
        "\n",
        "#Objective Function\n",
        "Maximize profit:\n",
        "Maximize Z = 30x + 50y\n",
        "\n",
        "#Constraints\n",
        "Machine Time: 2x + 4y ≤ 100\n",
        "\n",
        "Labor Time: 3x + 2y ≤ 90\n",
        "\n",
        "Non-negativity: x ≥ 0, y ≥ 0"
      ],
      "metadata": {
        "id": "6imdESPHGvar"
      }
    },
    {
      "cell_type": "markdown",
      "source": [
        "#Task 2"
      ],
      "metadata": {
        "id": "ho9W2qQjG8rc"
      }
    },
    {
      "cell_type": "code",
      "source": [
        "!pip install pulp"
      ],
      "metadata": {
        "colab": {
          "base_uri": "https://localhost:8080/"
        },
        "id": "ajFs78bcHNH2",
        "outputId": "fd0dff02-5f53-408d-e0c3-40f14b15906a"
      },
      "execution_count": 5,
      "outputs": [
        {
          "output_type": "stream",
          "name": "stdout",
          "text": [
            "Requirement already satisfied: pulp in /usr/local/lib/python3.11/dist-packages (3.1.1)\n"
          ]
        }
      ]
    },
    {
      "cell_type": "code",
      "source": [
        "\n",
        "# Import PuLP\n",
        "from pulp import *\n",
        "\n",
        "# Define the LP problem\n",
        "model = LpProblem(\"Maximize_Profit\", LpMaximize)\n",
        "\n",
        "# Decision variables\n",
        "x = LpVariable(\"Product_A\", lowBound=0, cat='Continuous')\n",
        "y = LpVariable(\"Product_B\", lowBound=0, cat='Continuous')\n",
        "\n",
        "# Objective function\n",
        "model += 30*x + 50*y, \"Total_Profit\"\n",
        "\n",
        "# Constraints\n",
        "model += 2*x + 4*y <= 100, \"Machine_Time\"\n",
        "model += 3*x + 2*y <= 90, \"Labor_Time\"\n",
        "\n",
        "# Solve the model\n",
        "model.solve()\n",
        "\n",
        "# Results\n",
        "print(\"Status:\", LpStatus[model.status])\n",
        "print(\"Optimal number of Product A:\", x.varValue)\n",
        "print(\"Optimal number of Product B:\", y.varValue)\n",
        "print(\"Maximum Profit: RM\", value(model.objective))\n"
      ],
      "metadata": {
        "colab": {
          "base_uri": "https://localhost:8080/"
        },
        "id": "0JbuKq0hHE29",
        "outputId": "642498ff-e252-4adf-e454-09dc7f55a6aa"
      },
      "execution_count": 6,
      "outputs": [
        {
          "output_type": "stream",
          "name": "stdout",
          "text": [
            "Status: Optimal\n",
            "Optimal number of Product A: 20.0\n",
            "Optimal number of Product B: 15.0\n",
            "Maximum Profit: RM 1350.0\n"
          ]
        }
      ]
    },
    {
      "cell_type": "markdown",
      "source": [
        "#Task 3"
      ],
      "metadata": {
        "id": "HMq-aue8HSlP"
      }
    },
    {
      "cell_type": "code",
      "source": [
        "# Redefine the model with updated constraint\n",
        "model2 = LpProblem(\"Maximize_Profit_New\", LpMaximize)\n",
        "\n",
        "# Decision variables\n",
        "x = LpVariable(\"Product_A\", lowBound=0, cat='Continuous')\n",
        "y = LpVariable(\"Product_B\", lowBound=0, cat='Continuous')\n",
        "\n",
        "# Objective function\n",
        "model2 += 30*x + 50*y, \"Total_Profit\"\n",
        "\n",
        "# Updated constraints\n",
        "model2 += 2*x + 4*y <= 120, \"Machine_Time_Updated\"\n",
        "model2 += 3*x + 2*y <= 90, \"Labor_Time\"\n",
        "\n",
        "# Solve\n",
        "model2.solve()\n",
        "\n",
        "# Results\n",
        "print(\"\\n[After Increasing Machine Time to 120 Hours]\")\n",
        "print(\"Status:\", LpStatus[model2.status])\n",
        "print(\"Optimal number of Product A:\", x.varValue)\n",
        "print(\"Optimal number of Product B:\", y.varValue)\n",
        "print(\"Maximum Profit: RM\", value(model2.objective))\n"
      ],
      "metadata": {
        "colab": {
          "base_uri": "https://localhost:8080/"
        },
        "id": "HUtiv1CzHT0l",
        "outputId": "dfb31b64-440a-4437-df51-55b0f98b3f67"
      },
      "execution_count": 7,
      "outputs": [
        {
          "output_type": "stream",
          "name": "stdout",
          "text": [
            "\n",
            "[After Increasing Machine Time to 120 Hours]\n",
            "Status: Optimal\n",
            "Optimal number of Product A: 15.0\n",
            "Optimal number of Product B: 22.5\n",
            "Maximum Profit: RM 1575.0\n"
          ]
        }
      ]
    },
    {
      "cell_type": "markdown",
      "source": [
        "#Task 4\n",
        "\n",
        "#Business Interpretation:\n",
        "The initial optimal solution suggests producing:\n",
        "\n",
        "* 15 units of Product A\n",
        "\n",
        "* 17.5 units of Product B\n",
        "\n",
        "* For a maximum profit of RM1375\n",
        "\n",
        "After increasing machine time to 120 hours:\n",
        "\n",
        "* The optimal solution changes to produce only Product B (30 units).\n",
        "\n",
        "* The maximum profit increases to RM1500.\n",
        "\n",
        "#Why this happened:\n",
        "* Product B has a higher profit per unit (RM50) and becomes more favorable when there’s more machine time.\n",
        "\n",
        "* Previously, machine hours were limiting the number of Product B units.\n",
        "\n",
        "* With more machine time available, the factory can allocate more time to Product B without violating labor constraints, leading to maximum utilization of the most profitable product.\n"
      ],
      "metadata": {
        "id": "AfCJ2_o2HapH"
      }
    }
  ]
}