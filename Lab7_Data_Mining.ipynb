{
  "nbformat": 4,
  "nbformat_minor": 0,
  "metadata": {
    "colab": {
      "provenance": []
    },
    "kernelspec": {
      "name": "python3",
      "display_name": "Python 3"
    },
    "language_info": {
      "name": "python"
    }
  },
  "cells": [
    {
      "cell_type": "code",
      "execution_count": 1,
      "metadata": {
        "colab": {
          "base_uri": "https://localhost:8080/"
        },
        "id": "3Tb1EQUOHvUb",
        "outputId": "45e00a35-7d0e-4244-aa23-e954538391ee"
      },
      "outputs": [
        {
          "output_type": "stream",
          "name": "stdout",
          "text": [
            "=== Allocation Table (Northwest Corner Method) ===\n",
            "             Customer 1  Customer 2  Customer 3  Customer 4  Customer 5\n",
            "Factory A            40          20           0           0           0\n",
            "Factory B             0          10          50          15           0\n",
            "Warehouse X           0           0           0          45           5\n",
            "Warehouse Y           0           0           0           0          40\n",
            "\n",
            "Total Transportation Cost: RM 1415\n"
          ]
        }
      ],
      "source": [
        "import numpy as np\n",
        "import pandas as pd\n",
        "\n",
        "# Transportation cost matrix (RM per unit)\n",
        "cost = np.array([\n",
        "    [4, 8, 8, 6, 10],   # Factory A\n",
        "    [6, 4, 7, 3, 6],    # Factory B\n",
        "    [8, 6, 9, 7, 5],    # Warehouse X\n",
        "    [10, 8, 4, 6, 8]    # Warehouse Y\n",
        "])\n",
        "\n",
        "# Supply and Demand\n",
        "supply = [60, 75, 50, 40]            # A, B, X, Y\n",
        "demand = [40, 30, 50, 60, 45]        # C1 to C5\n",
        "\n",
        "# Create allocation matrix filled with zeros\n",
        "allocation = np.zeros((4, 5), dtype=int)\n",
        "\n",
        "# Make copies for iteration\n",
        "supply_copy = supply.copy()\n",
        "demand_copy = demand.copy()\n",
        "\n",
        "# Apply Northwest Corner Method\n",
        "i = j = 0\n",
        "while i < len(supply_copy) and j < len(demand_copy):\n",
        "    alloc = min(supply_copy[i], demand_copy[j])\n",
        "    allocation[i][j] = alloc\n",
        "    supply_copy[i] -= alloc\n",
        "    demand_copy[j] -= alloc\n",
        "    if supply_copy[i] == 0:\n",
        "        i += 1\n",
        "    if demand_copy[j] == 0:\n",
        "        j += 1\n",
        "\n",
        "# Calculate total transportation cost\n",
        "total_cost = np.sum(allocation * cost)\n",
        "\n",
        "# Prepare allocation table for display\n",
        "sources = [\"Factory A\", \"Factory B\", \"Warehouse X\", \"Warehouse Y\"]\n",
        "customers = [\"Customer 1\", \"Customer 2\", \"Customer 3\", \"Customer 4\", \"Customer 5\"]\n",
        "alloc_df = pd.DataFrame(allocation, index=sources, columns=customers)\n",
        "\n",
        "# Display results\n",
        "print(\"=== Allocation Table (Northwest Corner Method) ===\")\n",
        "print(alloc_df)\n",
        "print(\"\\nTotal Transportation Cost: RM\", total_cost)\n"
      ]
    },
    {
      "cell_type": "markdown",
      "source": [
        "#Step By Step Explaination\n",
        "\n",
        "#Step 1: Start at the Northwest (Top-Left) Corner\n",
        "Begin at Factory A → Customer 1.\n",
        "\n",
        "* Allocate the minimum of supply and demand.\n",
        "\n",
        "* Subtract the allocated value from both supply and demand.\n",
        "\n",
        "* Move right if supply is exhausted, down if demand is exhausted.\n",
        "\n",
        "* Repeat until all supply and demand are satisfied.\n",
        "\n",
        "#Step 2: Record Allocations.\n",
        "\n",
        "#Step 3: Show the records in table.\n",
        "\n",
        "#Step 4: Total Transportation Cost: RM 1415"
      ],
      "metadata": {
        "id": "kZrYLTg8I8fW"
      }
    },
    {
      "cell_type": "markdown",
      "source": [
        "#Intepretation\n",
        "\n",
        "Using the Northwest Corner Method, the total transportation cost is RM 1415. This solution satisfies all customer demands using all available supply. However, this method doesn't consider costs while allocating, so while feasible, it's not guaranteed to be optimal. For cost optimization, advanced methods like Least Cost or MODI are preferred.\n"
      ],
      "metadata": {
        "id": "DypAsUWvJUmN"
      }
    }
  ]
}